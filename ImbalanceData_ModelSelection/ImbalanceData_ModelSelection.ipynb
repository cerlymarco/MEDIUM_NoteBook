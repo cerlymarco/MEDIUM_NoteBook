{
 "cells": [
  {
   "cell_type": "code",
   "execution_count": 1,
   "id": "60c8f7fb",
   "metadata": {
    "_cell_guid": "b1076dfc-b9ad-4769-8c92-a6c4dae69d19",
    "_uuid": "8f2839f25d086af736a60e9eeb907d3b93b6e0e5",
    "execution": {
     "iopub.execute_input": "2023-02-19T19:32:28.092386Z",
     "iopub.status.busy": "2023-02-19T19:32:28.091958Z",
     "iopub.status.idle": "2023-02-19T19:32:29.586713Z",
     "shell.execute_reply": "2023-02-19T19:32:29.585658Z"
    },
    "papermill": {
     "duration": 1.503379,
     "end_time": "2023-02-19T19:32:29.589440",
     "exception": false,
     "start_time": "2023-02-19T19:32:28.086061",
     "status": "completed"
    },
    "tags": []
   },
   "outputs": [],
   "source": [
    "import numpy as np\n",
    "import pandas as pd\n",
    "from scipy import stats\n",
    "import matplotlib.pyplot as plt\n",
    "\n",
    "from xgboost import XGBRFClassifier\n",
    "\n",
    "from sklearn.datasets import make_classification\n",
    "from sklearn.metrics import make_scorer, fbeta_score\n",
    "from sklearn.model_selection import RandomizedSearchCV, StratifiedKFold"
   ]
  },
  {
   "cell_type": "code",
   "execution_count": 2,
   "id": "c91bf783",
   "metadata": {
    "execution": {
     "iopub.execute_input": "2023-02-19T19:32:29.599078Z",
     "iopub.status.busy": "2023-02-19T19:32:29.598725Z",
     "iopub.status.idle": "2023-02-19T19:32:29.610020Z",
     "shell.execute_reply": "2023-02-19T19:32:29.608914Z"
    },
    "papermill": {
     "duration": 0.01999,
     "end_time": "2023-02-19T19:32:29.613144",
     "exception": false,
     "start_time": "2023-02-19T19:32:29.593154",
     "status": "completed"
    },
    "tags": []
   },
   "outputs": [],
   "source": [
    "### DEFINE THRESHOLD CLASSIFIER AS SKLEARN COMPATIBLE ESTIMATOR ###\n",
    "\n",
    "from sklearn.model_selection import train_test_split\n",
    "from sklearn.base import clone, BaseEstimator, ClassifierMixin\n",
    "\n",
    "\n",
    "class ThresholdClassifier(BaseEstimator, ClassifierMixin):\n",
    "    \n",
    "    def __init__(self, estimator, refit=True, val_size=0.3):\n",
    "        self.estimator = estimator\n",
    "        self.refit = refit\n",
    "        self.val_size = val_size\n",
    "        \n",
    "    def fit(self, X, y):\n",
    "        \n",
    "        def scoring(th, y, prob):\n",
    "            pred = (prob > th).astype(int)\n",
    "            return 0 if not pred.any() else \\\n",
    "                -fbeta_score(y, pred, beta=0.1) \n",
    "        \n",
    "        X_train, X_val, y_train, y_val = train_test_split(\n",
    "            X, y, stratify=y, test_size=self.val_size, \n",
    "            shuffle=True, random_state=1234\n",
    "        )\n",
    "        \n",
    "        self.estimator_ = clone(self.estimator)\n",
    "        self.estimator_.fit(X_train, y_train)\n",
    "        \n",
    "        prob_val = self.estimator_.predict_proba(X_val)[:,1]\n",
    "        thresholds = np.linspace(0,1, 200)[1:-1]\n",
    "        scores = [scoring(th, y_val, prob_val) \n",
    "                    for th in thresholds]\n",
    "        self.score_ = np.min(scores)\n",
    "        self.th_ = thresholds[np.argmin(scores)]\n",
    "        \n",
    "        if self.refit:\n",
    "            self.estimator_.fit(X, y)\n",
    "        if hasattr(self.estimator_, 'classes_'):\n",
    "            self.classes_ = self.estimator_.classes_\n",
    "            \n",
    "        return self\n",
    "    \n",
    "    def predict(self, X):\n",
    "        proba = self.estimator_.predict_proba(X)[:,1]\n",
    "        return (proba > self.th_).astype(int)\n",
    "    \n",
    "    def predict_proba(self, X):\n",
    "        return self.estimator_.predict_proba(X)"
   ]
  },
  {
   "cell_type": "code",
   "execution_count": 3,
   "id": "0ccfd06c",
   "metadata": {
    "execution": {
     "iopub.execute_input": "2023-02-19T19:32:29.621970Z",
     "iopub.status.busy": "2023-02-19T19:32:29.621573Z",
     "iopub.status.idle": "2023-02-19T19:32:29.641656Z",
     "shell.execute_reply": "2023-02-19T19:32:29.640808Z"
    },
    "papermill": {
     "duration": 0.027328,
     "end_time": "2023-02-19T19:32:29.644104",
     "exception": false,
     "start_time": "2023-02-19T19:32:29.616776",
     "status": "completed"
    },
    "tags": []
   },
   "outputs": [],
   "source": [
    "### SIMULATE DATA ###\n",
    "\n",
    "X, y = make_classification(\n",
    "    n_samples=5_000, \n",
    "    class_sep=0.5,\n",
    "    n_features=30, n_informative=11, n_redundant=6,\n",
    "    n_classes=2, weights=[0.9, 0.1],  \n",
    "    random_state=1234, shuffle=True\n",
    ")"
   ]
  },
  {
   "cell_type": "code",
   "execution_count": 4,
   "id": "84af1448",
   "metadata": {
    "execution": {
     "iopub.execute_input": "2023-02-19T19:32:29.654419Z",
     "iopub.status.busy": "2023-02-19T19:32:29.654017Z",
     "iopub.status.idle": "2023-02-19T19:32:29.808778Z",
     "shell.execute_reply": "2023-02-19T19:32:29.807935Z"
    },
    "papermill": {
     "duration": 0.162333,
     "end_time": "2023-02-19T19:32:29.810836",
     "exception": false,
     "start_time": "2023-02-19T19:32:29.648503",
     "status": "completed"
    },
    "tags": []
   },
   "outputs": [
    {
     "data": {
      "image/png": "[encoded data removed]",
      "text/plain": [
       "<Figure size 360x360 with 1 Axes>"
      ]
     },
     "metadata": {},
     "output_type": "display_data"
    }
   ],
   "source": [
    "### TARGET DISTRIBUTION OF SIMULATED DATA ###\n",
    "\n",
    "pd.value_counts(y).rename('Target Distribution').plot.pie(\n",
    "    colors=['green','lime'], figsize=(5,5)\n",
    ")\n",
    "plt.show()"
   ]
  },
  {
   "cell_type": "code",
   "execution_count": 5,
   "id": "5b313fc8",
   "metadata": {
    "execution": {
     "iopub.execute_input": "2023-02-19T19:32:29.821547Z",
     "iopub.status.busy": "2023-02-19T19:32:29.821174Z",
     "iopub.status.idle": "2023-02-19T19:32:29.826817Z",
     "shell.execute_reply": "2023-02-19T19:32:29.825961Z"
    },
    "papermill": {
     "duration": 0.01321,
     "end_time": "2023-02-19T19:32:29.828715",
     "exception": false,
     "start_time": "2023-02-19T19:32:29.815505",
     "status": "completed"
    },
    "tags": []
   },
   "outputs": [],
   "source": [
    "### MODELING VARIABLE ###\n",
    "\n",
    "CV = StratifiedKFold(5, shuffle=True, random_state=1234)\n",
    "base_clf = XGBRFClassifier(random_state=1234)\n",
    "scoring = {\n",
    "    'fbeta': make_scorer(fbeta_score, beta=0.1), \n",
    "    'roc_auc':'roc_auc', \n",
    "    'average_precision':'average_precision'\n",
    "}"
   ]
  },
  {
   "cell_type": "code",
   "execution_count": 6,
   "id": "97c2652a",
   "metadata": {
    "execution": {
     "iopub.execute_input": "2023-02-19T19:32:29.840237Z",
     "iopub.status.busy": "2023-02-19T19:32:29.839595Z",
     "iopub.status.idle": "2023-02-19T19:34:05.035221Z",
     "shell.execute_reply": "2023-02-19T19:34:05.034026Z"
    },
    "papermill": {
     "duration": 95.204142,
     "end_time": "2023-02-19T19:34:05.037683",
     "exception": false,
     "start_time": "2023-02-19T19:32:29.833541",
     "status": "completed"
    },
    "tags": []
   },
   "outputs": [],
   "source": [
    "### SIMPLE MODEL SELECTION ###\n",
    "\n",
    "base_model = RandomizedSearchCV(\n",
    "    base_clf, \n",
    "    dict(n_estimators=stats.randint(50,300)), \n",
    "    n_iter=20, random_state=1234,\n",
    "    cv=CV, n_jobs=-1, \n",
    "    refit=False, error_score='raise',\n",
    "    scoring=scoring,\n",
    ").fit(X, y)"
   ]
  },
  {
   "cell_type": "code",
   "execution_count": 7,
   "id": "cfa75420",
   "metadata": {
    "execution": {
     "iopub.execute_input": "2023-02-19T19:34:05.047228Z",
     "iopub.status.busy": "2023-02-19T19:34:05.046886Z",
     "iopub.status.idle": "2023-02-19T19:36:48.090581Z",
     "shell.execute_reply": "2023-02-19T19:36:48.089511Z"
    },
    "papermill": {
     "duration": 163.051275,
     "end_time": "2023-02-19T19:36:48.092907",
     "exception": false,
     "start_time": "2023-02-19T19:34:05.041632",
     "status": "completed"
    },
    "tags": []
   },
   "outputs": [],
   "source": [
    "### MODEL SELECTION WITH ThresholdClassifier ###\n",
    "\n",
    "threshold_model = RandomizedSearchCV(\n",
    "    ThresholdClassifier(base_clf), \n",
    "    dict(estimator__n_estimators=stats.randint(50,300)), \n",
    "    n_iter=20, random_state=1234,\n",
    "    cv=CV, n_jobs=-1, \n",
    "    refit=False, error_score='raise',\n",
    "    scoring=scoring,\n",
    ").fit(X, y)"
   ]
  },
  {
   "cell_type": "code",
   "execution_count": 8,
   "id": "d0e2a626",
   "metadata": {
    "execution": {
     "iopub.execute_input": "2023-02-19T19:36:48.103126Z",
     "iopub.status.busy": "2023-02-19T19:36:48.101784Z",
     "iopub.status.idle": "2023-02-19T19:36:48.113224Z",
     "shell.execute_reply": "2023-02-19T19:36:48.112523Z"
    },
    "papermill": {
     "duration": 0.018838,
     "end_time": "2023-02-19T19:36:48.115681",
     "exception": false,
     "start_time": "2023-02-19T19:36:48.096843",
     "status": "completed"
    },
    "tags": []
   },
   "outputs": [],
   "source": [
    "### GET CV MEDIAN SCORE RESULTS ###\n",
    "\n",
    "base_model_test_roc_auc = np.median([\n",
    "    base_model.cv_results_[f'split{i}_test_roc_auc'] \n",
    "    for i in range(CV.n_splits)\n",
    "], axis=0)\n",
    "base_model_test_avg_precision = np.median([\n",
    "    base_model.cv_results_[f'split{i}_test_average_precision'] \n",
    "    for i in range(CV.n_splits)\n",
    "], axis=0)\n",
    "base_model_test_fbeta = np.median([\n",
    "    base_model.cv_results_[f'split{i}_test_fbeta'] \n",
    "    for i in range(CV.n_splits)\n",
    "], axis=0)\n",
    "\n",
    "threshold_model_test_roc_auc = np.median([\n",
    "    threshold_model.cv_results_[f'split{i}_test_roc_auc'] \n",
    "    for i in range(CV.n_splits)\n",
    "], axis=0)\n",
    "threshold_model_test_avg_precision = np.median([\n",
    "    threshold_model.cv_results_[f'split{i}_test_average_precision'] \n",
    "    for i in range(CV.n_splits)\n",
    "], axis=0)\n",
    "threshold_model_test_fbeta = np.median([\n",
    "    threshold_model.cv_results_[f'split{i}_test_fbeta'] \n",
    "    for i in range(CV.n_splits)\n",
    "], axis=0)"
   ]
  },
  {
   "cell_type": "code",
   "execution_count": 9,
   "id": "cb724597",
   "metadata": {
    "execution": {
     "iopub.execute_input": "2023-02-19T19:36:48.124897Z",
     "iopub.status.busy": "2023-02-19T19:36:48.124549Z",
     "iopub.status.idle": "2023-02-19T19:36:48.412236Z",
     "shell.execute_reply": "2023-02-19T19:36:48.410947Z"
    },
    "papermill": {
     "duration": 0.29487,
     "end_time": "2023-02-19T19:36:48.414344",
     "exception": false,
     "start_time": "2023-02-19T19:36:48.119474",
     "status": "completed"
    },
    "tags": []
   },
   "outputs": [
    {
     "data": {
      "image/png": "[encoded data removed]",
      "text/plain": [
       "<Figure size 1152x360 with 2 Axes>"
      ]
     },
     "metadata": {
      "needs_background": "light"
     },
     "output_type": "display_data"
    }
   ],
   "source": [
    "### PLOT SIMPLE MODEL SEARCH RESULTS ###\n",
    "\n",
    "plt.figure(figsize=(16,5))\n",
    "\n",
    "plt.subplot(1,2,1)\n",
    "plt.scatter(\n",
    "    base_model_test_roc_auc,\n",
    "    base_model_test_fbeta,\n",
    "    c='blue', label='baseModel'\n",
    ")\n",
    "plt.ylabel('fbeta'); plt.xlabel('auc'); plt.legend()\n",
    "\n",
    "plt.subplot(1,2,2)\n",
    "plt.scatter(\n",
    "    base_model_test_avg_precision,\n",
    "    base_model_test_fbeta,\n",
    "    c='blue', label='baseModel'\n",
    ")\n",
    "plt.ylabel('fbeta'); plt.xlabel('average precision'); plt.legend()\n",
    "\n",
    "plt.show()"
   ]
  },
  {
   "cell_type": "code",
   "execution_count": 10,
   "id": "69926646",
   "metadata": {
    "execution": {
     "iopub.execute_input": "2023-02-19T19:36:48.423971Z",
     "iopub.status.busy": "2023-02-19T19:36:48.423604Z",
     "iopub.status.idle": "2023-02-19T19:36:48.706596Z",
     "shell.execute_reply": "2023-02-19T19:36:48.705137Z"
    },
    "papermill": {
     "duration": 0.291255,
     "end_time": "2023-02-19T19:36:48.709668",
     "exception": false,
     "start_time": "2023-02-19T19:36:48.418413",
     "status": "completed"
    },
    "tags": []
   },
   "outputs": [
    {
     "data": {
      "image/png": "[encoded data removed]",
      "text/plain": [
       "<Figure size 1152x360 with 2 Axes>"
      ]
     },
     "metadata": {
      "needs_background": "light"
     },
     "output_type": "display_data"
    }
   ],
   "source": [
    "### PLOT ThresholdClassifier SEARCH RESULTS ###\n",
    "\n",
    "plt.figure(figsize=(16,5))\n",
    "\n",
    "plt.subplot(1,2,1)\n",
    "plt.scatter(\n",
    "    threshold_model_test_roc_auc,\n",
    "    threshold_model_test_fbeta,\n",
    "    c='red', label='thresholdModel'\n",
    ")\n",
    "plt.ylabel('fbeta'); plt.xlabel('auc'); plt.legend()\n",
    "\n",
    "plt.subplot(1,2,2)\n",
    "plt.scatter(\n",
    "    threshold_model_test_avg_precision,\n",
    "    threshold_model_test_fbeta,\n",
    "    c='red', label='thresholdModel'\n",
    ")\n",
    "plt.ylabel('fbeta'); plt.xlabel('average precision'); plt.legend()\n",
    "\n",
    "plt.show()"
   ]
  },
  {
   "cell_type": "code",
   "execution_count": 11,
   "id": "641f305d",
   "metadata": {
    "execution": {
     "iopub.execute_input": "2023-02-19T19:36:48.719851Z",
     "iopub.status.busy": "2023-02-19T19:36:48.719490Z",
     "iopub.status.idle": "2023-02-19T19:36:49.006000Z",
     "shell.execute_reply": "2023-02-19T19:36:49.004108Z"
    },
    "papermill": {
     "duration": 0.294064,
     "end_time": "2023-02-19T19:36:49.008067",
     "exception": false,
     "start_time": "2023-02-19T19:36:48.714003",
     "status": "completed"
    },
    "tags": []
   },
   "outputs": [
    {
     "data": {
      "image/png": "[encoded data removed]",
      "text/plain": [
       "<Figure size 936x360 with 1 Axes>"
      ]
     },
     "metadata": {
      "needs_background": "light"
     },
     "output_type": "display_data"
    }
   ],
   "source": [
    "### PLOT SIMPLE MODEL AND ThresholdClassifier SEARCH RESULTS ###\n",
    "\n",
    "pd.DataFrame(\n",
    "    {'baseModel': base_model_test_fbeta,\n",
    "     'thresholdModel': threshold_model_test_fbeta},\n",
    "    index=[f\"model_{m+1}\" for m in range(len(base_model.cv_results_['params']))]\n",
    ").plot.bar(color=['blue','red'], figsize=(13,5))\n",
    "plt.ylabel('fbeta')\n",
    "plt.show()"
   ]
  },
  {
   "cell_type": "code",
   "execution_count": 12,
   "id": "25b9dae7",
   "metadata": {
    "execution": {
     "iopub.execute_input": "2023-02-19T19:36:49.020139Z",
     "iopub.status.busy": "2023-02-19T19:36:49.019326Z",
     "iopub.status.idle": "2023-02-19T19:36:49.373455Z",
     "shell.execute_reply": "2023-02-19T19:36:49.372096Z"
    },
    "papermill": {
     "duration": 0.362978,
     "end_time": "2023-02-19T19:36:49.375713",
     "exception": false,
     "start_time": "2023-02-19T19:36:49.012735",
     "status": "completed"
    },
    "tags": []
   },
   "outputs": [
    {
     "data": {
      "image/png": "[encoded data removed]",
      "text/plain": [
       "<Figure size 1152x360 with 2 Axes>"
      ]
     },
     "metadata": {
      "needs_background": "light"
     },
     "output_type": "display_data"
    }
   ],
   "source": [
    "### PLOT SIMPLE MODEL AND ThresholdClassifier SEARCH RESULTS ###\n",
    "\n",
    "plt.figure(figsize=(16,5))\n",
    "\n",
    "plt.subplot(1,2,1)\n",
    "plt.scatter(\n",
    "    base_model_test_roc_auc,\n",
    "    base_model_test_fbeta,\n",
    "    c='blue', label='baseModel'\n",
    ")\n",
    "plt.scatter(\n",
    "    threshold_model_test_roc_auc,\n",
    "    threshold_model_test_fbeta,\n",
    "    c='red', label='thresholdModel'\n",
    ")\n",
    "plt.axhline(np.median(base_model_test_fbeta), \n",
    "            color='blue', linestyle='--')\n",
    "plt.axhline(np.median(threshold_model_test_fbeta), \n",
    "            color='red', linestyle='--')\n",
    "plt.ylabel('fbeta'); plt.xlabel('auc'); plt.legend()\n",
    "\n",
    "plt.subplot(1,2,2)\n",
    "plt.scatter(\n",
    "    base_model_test_avg_precision,\n",
    "    base_model_test_fbeta,\n",
    "    c='blue', label='baseModel'\n",
    ")\n",
    "plt.scatter(\n",
    "    threshold_model_test_avg_precision,\n",
    "    threshold_model_test_fbeta,\n",
    "    c='red', label='thresholdModel'\n",
    ")\n",
    "plt.axhline(np.median(base_model_test_fbeta), \n",
    "            color='blue', linestyle='--')\n",
    "plt.axhline(np.median(threshold_model_test_fbeta), \n",
    "            color='red', linestyle='--')\n",
    "plt.ylabel('fbeta'); plt.xlabel('average precision'); plt.legend()\n",
    "\n",
    "plt.show()"
   ]
  }
 ],
 "metadata": {
  "kernelspec": {
   "display_name": "Python 3",
   "language": "python",
   "name": "python3"
  },
  "language_info": {
   "codemirror_mode": {
    "name": "ipython",
    "version": 3
   },
   "file_extension": ".py",
   "mimetype": "text/x-python",
   "name": "python",
   "nbconvert_exporter": "python",
   "pygments_lexer": "ipython3",
   "version": "3.7.12"
  },
  "papermill": {
   "default_parameters": {},
   "duration": 273.06525,
   "end_time": "2023-02-19T19:36:52.002763",
   "environment_variables": {},
   "exception": null,
   "input_path": "__notebook__.ipynb",
   "output_path": "__notebook__.ipynb",
   "parameters": {},
   "start_time": "2023-02-19T19:32:18.937513",
   "version": "2.3.4"
  }
 },
 "nbformat": 4,
 "nbformat_minor": 5
}
